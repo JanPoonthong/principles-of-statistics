{
 "cells": [
  {
   "cell_type": "code",
   "execution_count": 32,
   "id": "a2d45d0d",
   "metadata": {},
   "outputs": [],
   "source": [
    "import pandas as pd\n",
    "import numpy as p\n",
    "import matplotlib.pyplot as plt"
   ]
  },
  {
   "cell_type": "code",
   "execution_count": 33,
   "id": "6c618e7d",
   "metadata": {},
   "outputs": [
    {
     "data": {
      "text/html": [
       "<div>\n",
       "<style scoped>\n",
       "    .dataframe tbody tr th:only-of-type {\n",
       "        vertical-align: middle;\n",
       "    }\n",
       "\n",
       "    .dataframe tbody tr th {\n",
       "        vertical-align: top;\n",
       "    }\n",
       "\n",
       "    .dataframe thead th {\n",
       "        text-align: right;\n",
       "    }\n",
       "</style>\n",
       "<table border=\"1\" class=\"dataframe\">\n",
       "  <thead>\n",
       "    <tr style=\"text-align: right;\">\n",
       "      <th></th>\n",
       "      <th>subject</th>\n",
       "      <th>therapy</th>\n",
       "      <th>before</th>\n",
       "      <th>after</th>\n",
       "    </tr>\n",
       "  </thead>\n",
       "  <tbody>\n",
       "    <tr>\n",
       "      <th>0</th>\n",
       "      <td>1</td>\n",
       "      <td>cb</td>\n",
       "      <td>80.5</td>\n",
       "      <td>82.2</td>\n",
       "    </tr>\n",
       "    <tr>\n",
       "      <th>1</th>\n",
       "      <td>2</td>\n",
       "      <td>cb</td>\n",
       "      <td>84.9</td>\n",
       "      <td>85.6</td>\n",
       "    </tr>\n",
       "    <tr>\n",
       "      <th>2</th>\n",
       "      <td>3</td>\n",
       "      <td>cb</td>\n",
       "      <td>81.5</td>\n",
       "      <td>81.4</td>\n",
       "    </tr>\n",
       "  </tbody>\n",
       "</table>\n",
       "</div>"
      ],
      "text/plain": [
       "   subject therapy  before  after\n",
       "0        1      cb    80.5   82.2\n",
       "1        2      cb    84.9   85.6\n",
       "2        3      cb    81.5   81.4"
      ]
     },
     "execution_count": 33,
     "metadata": {},
     "output_type": "execute_result"
    }
   ],
   "source": [
    "Anor = pd.read_csv(\"data/Anorexia.dat\", sep=\"\\s+\")\n",
    "Anor.head(3)"
   ]
  },
  {
   "cell_type": "code",
   "execution_count": 34,
   "id": "ab232430",
   "metadata": {},
   "outputs": [
    {
     "data": {
      "text/plain": [
       "count    29.000000\n",
       "mean      3.006897\n",
       "std       7.308504\n",
       "min      -9.100000\n",
       "25%      -0.700000\n",
       "50%       1.400000\n",
       "75%       3.900000\n",
       "max      20.900000\n",
       "Name: change, dtype: float64"
      ]
     },
     "execution_count": 34,
     "metadata": {},
     "output_type": "execute_result"
    }
   ],
   "source": [
    "change = Anor[\"after\"] - Anor[\"before\"]\n",
    "Anor[\"change\"] = change\n",
    "Anor.loc[Anor[\"therapy\"] == \"cb\"][\"change\"].describe()"
   ]
  },
  {
   "cell_type": "code",
   "execution_count": 35,
   "id": "299f5f1e",
   "metadata": {},
   "outputs": [
    {
     "data": {
      "text/plain": [
       "Text(0, 0.5, 'Frequency')"
      ]
     },
     "execution_count": 35,
     "metadata": {},
     "output_type": "execute_result"
    },
    {
     "data": {
      "image/png": "[encoded data removed]",
      "text/plain": [
       "<Figure size 432x288 with 1 Axes>"
      ]
     },
     "metadata": {
      "needs_background": "light"
     },
     "output_type": "display_data"
    }
   ],
   "source": [
    "bins = list(range(-10, 30, 5))\n",
    "plt.hist(Anor.loc[Anor[\"therapy\"] == \"cb\"][\"change\"], bins, edgecolor=\"k\")\n",
    "plt.xlabel(\"Weight change\")\n",
    "plt.ylabel(\"Frequency\")"
   ]
  },
  {
   "cell_type": "code",
   "execution_count": 36,
   "id": "3cf346c1",
   "metadata": {},
   "outputs": [],
   "source": [
    "changeCB = Anor.loc[Anor[\"therapy\"] == \"cb\"][\"change\"]"
   ]
  },
  {
   "cell_type": "code",
   "execution_count": 37,
   "id": "14eaba91",
   "metadata": {},
   "outputs": [
    {
     "data": {
      "text/plain": [
       "(0.2268901583587768, 5.7869029450894995)"
      ]
     },
     "execution_count": 37,
     "metadata": {},
     "output_type": "execute_result"
    }
   ],
   "source": [
    "import statsmodels.stats.api as sms\n",
    "\n",
    "sms.DescrStatsW(changeCB).tconfint_mean()"
   ]
  },
  {
   "cell_type": "code",
   "execution_count": 38,
   "id": "b45b2f46",
   "metadata": {},
   "outputs": [
    {
     "data": {
      "text/plain": [
       "(-0.7432794440477513, 6.757072547496028)"
      ]
     },
     "execution_count": 38,
     "metadata": {},
     "output_type": "execute_result"
    }
   ],
   "source": [
    "sms.DescrStatsW(changeCB).tconfint_mean(alpha=0.01)"
   ]
  },
  {
   "cell_type": "code",
   "execution_count": null,
   "id": "28a7d08d",
   "metadata": {},
   "outputs": [],
   "source": [
    "Anor"
   ]
  }
 ],
 "metadata": {
  "kernelspec": {
   "display_name": "Python 3 (ipykernel)",
   "language": "python",
   "name": "python3"
  },
  "language_info": {
   "codemirror_mode": {
    "name": "ipython",
    "version": 3
   },
   "file_extension": ".py",
   "mimetype": "text/x-python",
   "name": "python",
   "nbconvert_exporter": "python",
   "pygments_lexer": "ipython3",
   "version": "3.9.12"
  }
 },
 "nbformat": 4,
 "nbformat_minor": 5
}
