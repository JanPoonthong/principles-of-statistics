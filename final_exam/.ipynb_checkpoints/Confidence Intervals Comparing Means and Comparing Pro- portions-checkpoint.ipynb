{
 "cells": [
  {
   "cell_type": "code",
   "execution_count": null,
   "id": "4e68ad52",
   "metadata": {},
   "outputs": [],
   "source": [
    "from scipy.stats import t"
   ]
  },
  {
   "cell_type": "code",
   "execution_count": null,
   "id": "ea4d54dc",
   "metadata": {},
   "outputs": [],
   "source": [
    "def t2ind_confint(y1, y2, equal_var=True, alpha=0.05):\n",
    "    n1 = len(y1)\n",
    "    n2 = len(y2)\n",
    "\n",
    "    var1 = np.var(y1) * n1 / (n1 - 1)\n",
    "    var2 = np.var(y2) * n2 / (n2 - 1)\n",
    "\n",
    "    if equal_var:\n",
    "        df = n1 + n2 - 2\n",
    "        vardiff = (\n",
    "            ((n - 1 - 1) * var1 + (n2 - 1) * var2)\n",
    "            / (n1 + n2 - 2)\n",
    "            * (1 / n1 + 1 / n2)\n",
    "        )\n",
    "    else:\n",
    "        df = (var1 / n1 + var2 / n2) ** 2 / (\n",
    "            var1**2 / (n1**2 * (n1 - 1)) + var2**2 / (n2**2 * (n2 - 1))\n",
    "        )\n",
    "        vardiff = var1 / n1 + var2 / n2\n",
    "\n",
    "    se = np.sqrt(vardiff)\n",
    "    qt = t.ppf(1 - alpha / 2, df)"
   ]
  }
 ],
 "metadata": {
  "kernelspec": {
   "display_name": "Python 3 (ipykernel)",
   "language": "python",
   "name": "python3"
  },
  "language_info": {
   "codemirror_mode": {
    "name": "ipython",
    "version": 3
   },
   "file_extension": ".py",
   "mimetype": "text/x-python",
   "name": "python",
   "nbconvert_exporter": "python",
   "pygments_lexer": "ipython3",
   "version": "3.9.12"
  }
 },
 "nbformat": 4,
 "nbformat_minor": 5
}
