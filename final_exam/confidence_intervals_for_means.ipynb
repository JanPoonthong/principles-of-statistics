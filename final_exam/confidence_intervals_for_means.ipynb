{
 "cells": [
  {
   "cell_type": "code",
   "execution_count": 29,
   "id": "a2d45d0d",
   "metadata": {},
   "outputs": [],
   "source": [
    "import pandas as pd\n",
    "import numpy as np\n",
    "import matplotlib.pyplot as plt\n",
    "from scipy.stats import norm"
   ]
  },
  {
   "cell_type": "code",
   "execution_count": 30,
   "id": "6c618e7d",
   "metadata": {},
   "outputs": [
    {
     "data": {
      "text/html": [
       "<div>\n",
       "<style scoped>\n",
       "    .dataframe tbody tr th:only-of-type {\n",
       "        vertical-align: middle;\n",
       "    }\n",
       "\n",
       "    .dataframe tbody tr th {\n",
       "        vertical-align: top;\n",
       "    }\n",
       "\n",
       "    .dataframe thead th {\n",
       "        text-align: right;\n",
       "    }\n",
       "</style>\n",
       "<table border=\"1\" class=\"dataframe\">\n",
       "  <thead>\n",
       "    <tr style=\"text-align: right;\">\n",
       "      <th></th>\n",
       "      <th>subject</th>\n",
       "      <th>therapy</th>\n",
       "      <th>before</th>\n",
       "      <th>after</th>\n",
       "    </tr>\n",
       "  </thead>\n",
       "  <tbody>\n",
       "    <tr>\n",
       "      <th>0</th>\n",
       "      <td>1</td>\n",
       "      <td>cb</td>\n",
       "      <td>80.5</td>\n",
       "      <td>82.2</td>\n",
       "    </tr>\n",
       "    <tr>\n",
       "      <th>1</th>\n",
       "      <td>2</td>\n",
       "      <td>cb</td>\n",
       "      <td>84.9</td>\n",
       "      <td>85.6</td>\n",
       "    </tr>\n",
       "    <tr>\n",
       "      <th>2</th>\n",
       "      <td>3</td>\n",
       "      <td>cb</td>\n",
       "      <td>81.5</td>\n",
       "      <td>81.4</td>\n",
       "    </tr>\n",
       "  </tbody>\n",
       "</table>\n",
       "</div>"
      ],
      "text/plain": [
       "   subject therapy  before  after\n",
       "0        1      cb    80.5   82.2\n",
       "1        2      cb    84.9   85.6\n",
       "2        3      cb    81.5   81.4"
      ]
     },
     "execution_count": 30,
     "metadata": {},
     "output_type": "execute_result"
    }
   ],
   "source": [
    "Anor = pd.read_csv(\"data/Anorexia.dat\", sep=\"\\s+\")\n",
    "Anor.head(3)"
   ]
  },
  {
   "cell_type": "code",
   "execution_count": 31,
   "id": "ab232430",
   "metadata": {},
   "outputs": [
    {
     "data": {
      "text/plain": [
       "count    29.000000\n",
       "mean      3.006897\n",
       "std       7.308504\n",
       "min      -9.100000\n",
       "25%      -0.700000\n",
       "50%       1.400000\n",
       "75%       3.900000\n",
       "max      20.900000\n",
       "Name: change, dtype: float64"
      ]
     },
     "execution_count": 31,
     "metadata": {},
     "output_type": "execute_result"
    }
   ],
   "source": [
    "change = Anor[\"after\"] - Anor[\"before\"]\n",
    "Anor[\"change\"] = change  # add new variable to the data frame\n",
    "Anor.loc[Anor[\"therapy\"] == \"cb\"][\"change\"].describe()"
   ]
  },
  {
   "cell_type": "code",
   "execution_count": 32,
   "id": "299f5f1e",
   "metadata": {},
   "outputs": [
    {
     "data": {
      "text/plain": [
       "Text(0, 0.5, 'Frequency')"
      ]
     },
     "execution_count": 32,
     "metadata": {},
     "output_type": "execute_result"
    },
    {
     "data": {
      "image/png": "[encoded data removed]",
      "text/plain": [
       "<Figure size 432x288 with 1 Axes>"
      ]
     },
     "metadata": {
      "needs_background": "light"
     },
     "output_type": "display_data"
    }
   ],
   "source": [
    "bins = list(range(-10, 30, 5))\n",
    "plt.hist(Anor.loc[Anor[\"therapy\"] == \"cb\"][\"change\"], bins, edgecolor=\"k\")\n",
    "plt.xlabel(\"Weight change\")\n",
    "plt.ylabel(\"Frequency\")"
   ]
  },
  {
   "cell_type": "code",
   "execution_count": 33,
   "id": "3cf346c1",
   "metadata": {},
   "outputs": [],
   "source": [
    "changeCB = Anor.loc[Anor[\"therapy\"] == \"cb\"][\"change\"]"
   ]
  },
  {
   "cell_type": "code",
   "execution_count": 34,
   "id": "14eaba91",
   "metadata": {},
   "outputs": [
    {
     "data": {
      "text/plain": [
       "(0.2268901583587768, 5.7869029450894995)"
      ]
     },
     "execution_count": 34,
     "metadata": {},
     "output_type": "execute_result"
    }
   ],
   "source": [
    "import statsmodels.stats.api as sms\n",
    "\n",
    "sms.DescrStatsW(changeCB).tconfint_mean()"
   ]
  },
  {
   "cell_type": "code",
   "execution_count": 35,
   "id": "b45b2f46",
   "metadata": {},
   "outputs": [
    {
     "data": {
      "text/plain": [
       "(-0.7432794440477513, 6.757072547496028)"
      ]
     },
     "execution_count": 35,
     "metadata": {},
     "output_type": "execute_result"
    }
   ],
   "source": [
    "sms.DescrStatsW(changeCB).tconfint_mean(alpha=0.01)"
   ]
  },
  {
   "cell_type": "code",
   "execution_count": 36,
   "id": "d354d06e",
   "metadata": {},
   "outputs": [
    {
     "data": {
      "text/html": [
       "<div>\n",
       "<style scoped>\n",
       "    .dataframe tbody tr th:only-of-type {\n",
       "        vertical-align: middle;\n",
       "    }\n",
       "\n",
       "    .dataframe tbody tr th {\n",
       "        vertical-align: top;\n",
       "    }\n",
       "\n",
       "    .dataframe thead th {\n",
       "        text-align: right;\n",
       "    }\n",
       "</style>\n",
       "<table border=\"1\" class=\"dataframe\">\n",
       "  <thead>\n",
       "    <tr style=\"text-align: right;\">\n",
       "      <th></th>\n",
       "      <th>subject</th>\n",
       "      <th>therapy</th>\n",
       "      <th>before</th>\n",
       "      <th>after</th>\n",
       "      <th>change</th>\n",
       "    </tr>\n",
       "  </thead>\n",
       "  <tbody>\n",
       "    <tr>\n",
       "      <th>0</th>\n",
       "      <td>1</td>\n",
       "      <td>cb</td>\n",
       "      <td>80.5</td>\n",
       "      <td>82.2</td>\n",
       "      <td>1.7</td>\n",
       "    </tr>\n",
       "    <tr>\n",
       "      <th>1</th>\n",
       "      <td>2</td>\n",
       "      <td>cb</td>\n",
       "      <td>84.9</td>\n",
       "      <td>85.6</td>\n",
       "      <td>0.7</td>\n",
       "    </tr>\n",
       "    <tr>\n",
       "      <th>2</th>\n",
       "      <td>3</td>\n",
       "      <td>cb</td>\n",
       "      <td>81.5</td>\n",
       "      <td>81.4</td>\n",
       "      <td>-0.1</td>\n",
       "    </tr>\n",
       "    <tr>\n",
       "      <th>3</th>\n",
       "      <td>4</td>\n",
       "      <td>cb</td>\n",
       "      <td>82.6</td>\n",
       "      <td>81.9</td>\n",
       "      <td>-0.7</td>\n",
       "    </tr>\n",
       "    <tr>\n",
       "      <th>4</th>\n",
       "      <td>5</td>\n",
       "      <td>cb</td>\n",
       "      <td>79.9</td>\n",
       "      <td>76.4</td>\n",
       "      <td>-3.5</td>\n",
       "    </tr>\n",
       "    <tr>\n",
       "      <th>...</th>\n",
       "      <td>...</td>\n",
       "      <td>...</td>\n",
       "      <td>...</td>\n",
       "      <td>...</td>\n",
       "      <td>...</td>\n",
       "    </tr>\n",
       "    <tr>\n",
       "      <th>67</th>\n",
       "      <td>68</td>\n",
       "      <td>c</td>\n",
       "      <td>84.4</td>\n",
       "      <td>84.7</td>\n",
       "      <td>0.3</td>\n",
       "    </tr>\n",
       "    <tr>\n",
       "      <th>68</th>\n",
       "      <td>69</td>\n",
       "      <td>c</td>\n",
       "      <td>79.6</td>\n",
       "      <td>81.4</td>\n",
       "      <td>1.8</td>\n",
       "    </tr>\n",
       "    <tr>\n",
       "      <th>69</th>\n",
       "      <td>70</td>\n",
       "      <td>c</td>\n",
       "      <td>77.5</td>\n",
       "      <td>81.2</td>\n",
       "      <td>3.7</td>\n",
       "    </tr>\n",
       "    <tr>\n",
       "      <th>70</th>\n",
       "      <td>71</td>\n",
       "      <td>c</td>\n",
       "      <td>72.3</td>\n",
       "      <td>88.2</td>\n",
       "      <td>15.9</td>\n",
       "    </tr>\n",
       "    <tr>\n",
       "      <th>71</th>\n",
       "      <td>72</td>\n",
       "      <td>c</td>\n",
       "      <td>89.0</td>\n",
       "      <td>78.8</td>\n",
       "      <td>-10.2</td>\n",
       "    </tr>\n",
       "  </tbody>\n",
       "</table>\n",
       "<p>72 rows × 5 columns</p>\n",
       "</div>"
      ],
      "text/plain": [
       "    subject therapy  before  after  change\n",
       "0         1      cb    80.5   82.2     1.7\n",
       "1         2      cb    84.9   85.6     0.7\n",
       "2         3      cb    81.5   81.4    -0.1\n",
       "3         4      cb    82.6   81.9    -0.7\n",
       "4         5      cb    79.9   76.4    -3.5\n",
       "..      ...     ...     ...    ...     ...\n",
       "67       68       c    84.4   84.7     0.3\n",
       "68       69       c    79.6   81.4     1.8\n",
       "69       70       c    77.5   81.2     3.7\n",
       "70       71       c    72.3   88.2    15.9\n",
       "71       72       c    89.0   78.8   -10.2\n",
       "\n",
       "[72 rows x 5 columns]"
      ]
     },
     "execution_count": 36,
     "metadata": {},
     "output_type": "execute_result"
    }
   ],
   "source": [
    "Anor"
   ]
  },
  {
   "cell_type": "code",
   "execution_count": 37,
   "id": "14e78d08",
   "metadata": {},
   "outputs": [],
   "source": [
    "# Confidence Intervals Comparing Means and Comparing Pro- portions"
   ]
  },
  {
   "cell_type": "code",
   "execution_count": 38,
   "id": "a4154b85",
   "metadata": {},
   "outputs": [],
   "source": [
    "from scipy.stats import t\n",
    "\n",
    "\n",
    "def t2ind_confint(y1, y2, equal_var=True, alpha=0.05):\n",
    "\n",
    "    # y1, y2 : vectors or data frames of values for group A and B\n",
    "    # returns: mean_diff: mean(A)-mean(B) (float)\n",
    "    # confint: CI for mu_A - mu_B (1d ndarray)\n",
    "    # conf: confidence level of the CI (float)\n",
    "    # df (float)\n",
    "    n1 = len(y1)\n",
    "    n2 = len(y2)\n",
    "    var1 = np.var(y1) * n1 / (n1 - 1)\n",
    "    var2 = np.var(y2) * n2 / (n2 - 1)\n",
    "    if equal_var:\n",
    "        df = n1 + n2 - 2\n",
    "        vardiff = (\n",
    "            ((n1 - 1) * var1 + (n2 - 1) * var2)\n",
    "            / (n1 + n2 - 2)\n",
    "            * (1 / n1 + 1 / n2)\n",
    "        )\n",
    "    else:\n",
    "        df = (var1 / n1 + var2 / n2) ** 2 / (\n",
    "            var1**2 / (n1**2 * (n1 - 1)) + var2**2 / (n2**2 * (n2 - 1))\n",
    "        )\n",
    "        vardiff = var1 / n1 + var2 / n2\n",
    "    se = np.sqrt(vardiff)\n",
    "    qt = t.ppf(1 - alpha / 2, df)  # t quantile for 100(1-alpha)% CI\n",
    "    mean_diff = np.mean(y1) - np.mean(y2)\n",
    "    confint = mean_diff + np.array([-1, 1]) * qt * se\n",
    "    conf = 1 - alpha\n",
    "    return mean_diff, confint, conf, df\n",
    "\n",
    "\n",
    "# returns: mean(A) - mean(B), CI for mu_A - mu_B, confidence level, df"
   ]
  },
  {
   "cell_type": "code",
   "execution_count": 39,
   "id": "daa87eca",
   "metadata": {},
   "outputs": [
    {
     "name": "stdout",
     "output_type": "stream",
     "text": [
      "mean1-mean2 = 3.456896551724137\n",
      "0.95 CI: [-0.68013704  7.59393014]\n",
      "df = 53\n"
     ]
    }
   ],
   "source": [
    "import pandas as pd\n",
    "\n",
    "# Anor = pd.read_csv('http://stat4ds.rwth-aachen.de/data/Anorexia.dat', sep='\\s+')\n",
    "cogbehav = Anor.loc[Anor[\"therapy\"] == \"cb\"][\"change\"]\n",
    "control = Anor.loc[Anor[\"therapy\"] == \"c\"][\"change\"]\n",
    "mean_diff, confint, conf, df = t2ind_confint(\n",
    "    cogbehav, control\n",
    ")  # call the function above\n",
    "print(\"mean1-mean2 =\", mean_diff)  # assume equal variances\n",
    "print(conf, \"CI:\", confint)\n",
    "print(\"df =\", df)"
   ]
  },
  {
   "cell_type": "code",
   "execution_count": 40,
   "id": "8afe18a1",
   "metadata": {},
   "outputs": [
    {
     "name": "stdout",
     "output_type": "stream",
     "text": [
      "mean1-mean2 = 3.456896551724137\n",
      "0.95 CI: [-0.70446319  7.61825629]\n",
      "df = 50.97065330426786\n"
     ]
    }
   ],
   "source": [
    "mean_diff, confint, conf, df = t2ind_confint(\n",
    "    cogbehav, control, equal_var=False\n",
    ")  # permit unequal variances\n",
    "print(\"mean1-mean2 =\", mean_diff)\n",
    "print(conf, \"CI:\", confint)\n",
    "print(\"df =\", df)"
   ]
  },
  {
   "cell_type": "code",
   "execution_count": null,
   "id": "a53fbda2",
   "metadata": {},
   "outputs": [],
   "source": []
  },
  {
   "cell_type": "code",
   "execution_count": 41,
   "id": "cd5c233b",
   "metadata": {},
   "outputs": [],
   "source": [
    "def prop2_confint(y1, n1, y2, n2, alpha=0.05):\n",
    "    # y1, y2 : Number of successes in group A and B (int)\n",
    "    # n1, n2 : Number of trials in group A and B (int)\n",
    "    # returns: prop_diff for A-B (float), comfint (1d ndarray)\n",
    "\n",
    "    prop1 = y1 / n1\n",
    "    prop2 = y2 / n2\n",
    "    var = prop1 * (1 - prop1) / n1 + prop2 * (1 - prop2) / n2\n",
    "    se = np.sqrt(var)\n",
    "    qz = norm.ppf(1 - alpha / 2)  # standard normal quantile\n",
    "\n",
    "    prop_diff = prop1 - prop2\n",
    "    confint = prop_diff + np.array([-1, 1]) * qz * se\n",
    "    conf = 1 - alpha\n",
    "    return prop_diff, confint, conf  # returns diff, CI, level"
   ]
  },
  {
   "cell_type": "code",
   "execution_count": 42,
   "id": "34b4da43",
   "metadata": {},
   "outputs": [
    {
     "name": "stdout",
     "output_type": "stream",
     "text": [
      "prop1-prop2 = 0.012310448489689096\n",
      "0.95 CI: [-0.04421536  0.06883625]\n"
     ]
    }
   ],
   "source": [
    "# call the function for data on prayers and coronary surgery:\n",
    "prop_diff, confint, conf = prop2_confint(315, 604, 304, 597)\n",
    "print(\"prop1-prop2 =\", prop_diff)\n",
    "print(conf, \"CI:\", confint)"
   ]
  }
 ],
 "metadata": {
  "kernelspec": {
   "display_name": "Python 3.9.12 ('base')",
   "language": "python",
   "name": "python3"
  },
  "language_info": {
   "codemirror_mode": {
    "name": "ipython",
    "version": 3
   },
   "file_extension": ".py",
   "mimetype": "text/x-python",
   "name": "python",
   "nbconvert_exporter": "python",
   "pygments_lexer": "ipython3",
   "version": "3.9.12"
  },
  "vscode": {
   "interpreter": {
    "hash": "40d3a090f54c6569ab1632332b64b2c03c39dcf918b08424e98f38b5ae0af88f"
   }
  }
 },
 "nbformat": 4,
 "nbformat_minor": 5
}
