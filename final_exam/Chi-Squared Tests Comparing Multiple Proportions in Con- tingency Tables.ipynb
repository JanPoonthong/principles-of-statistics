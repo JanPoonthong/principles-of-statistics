{
 "cells": [
  {
   "cell_type": "code",
   "execution_count": 4,
   "id": "3178bc81",
   "metadata": {},
   "outputs": [
    {
     "data": {
      "text/html": [
       "<div>\n",
       "<style scoped>\n",
       "    .dataframe tbody tr th:only-of-type {\n",
       "        vertical-align: middle;\n",
       "    }\n",
       "\n",
       "    .dataframe tbody tr th {\n",
       "        vertical-align: top;\n",
       "    }\n",
       "\n",
       "    .dataframe thead th {\n",
       "        text-align: right;\n",
       "    }\n",
       "</style>\n",
       "<table border=\"1\" class=\"dataframe\">\n",
       "  <thead>\n",
       "    <tr style=\"text-align: right;\">\n",
       "      <th></th>\n",
       "      <th>Very happy</th>\n",
       "      <th>Pretty happy</th>\n",
       "      <th>Not too happy</th>\n",
       "    </tr>\n",
       "  </thead>\n",
       "  <tbody>\n",
       "    <tr>\n",
       "      <th>Married</th>\n",
       "      <td>432</td>\n",
       "      <td>504</td>\n",
       "      <td>61</td>\n",
       "    </tr>\n",
       "    <tr>\n",
       "      <th>Divorced/Separated</th>\n",
       "      <td>92</td>\n",
       "      <td>282</td>\n",
       "      <td>103</td>\n",
       "    </tr>\n",
       "    <tr>\n",
       "      <th>Never married</th>\n",
       "      <td>124</td>\n",
       "      <td>409</td>\n",
       "      <td>135</td>\n",
       "    </tr>\n",
       "  </tbody>\n",
       "</table>\n",
       "</div>"
      ],
      "text/plain": [
       "                    Very happy  Pretty happy  Not too happy\n",
       "Married                    432           504             61\n",
       "Divorced/Separated          92           282            103\n",
       "Never married              124           409            135"
      ]
     },
     "execution_count": 4,
     "metadata": {},
     "output_type": "execute_result"
    }
   ],
   "source": [
    "import pandas as pd\n",
    "\n",
    "Happy = pd.read_csv(\"http://stat4ds.rwth-aachen.de/data/Happy.dat\", sep=\"\\s+\")\n",
    "rowlabel = [\"Married\", \"Divorced/Separated\", \"Never married\"]\n",
    "collabel = [\"Very happy\", \"Pretty happy\", \"Not too happy\"]\n",
    "\n",
    "table = pd.crosstab(Happy[\"marital\"], Happy[\"happiness\"], margins=False)\n",
    "table.index = rowlabel\n",
    "table.columns = collabel\n",
    "table"
   ]
  },
  {
   "cell_type": "code",
   "execution_count": 5,
   "id": "b242748b",
   "metadata": {},
   "outputs": [
    {
     "data": {
      "text/html": [
       "<div>\n",
       "<style scoped>\n",
       "    .dataframe tbody tr th:only-of-type {\n",
       "        vertical-align: middle;\n",
       "    }\n",
       "\n",
       "    .dataframe tbody tr th {\n",
       "        vertical-align: top;\n",
       "    }\n",
       "\n",
       "    .dataframe thead th {\n",
       "        text-align: right;\n",
       "    }\n",
       "</style>\n",
       "<table border=\"1\" class=\"dataframe\">\n",
       "  <thead>\n",
       "    <tr style=\"text-align: right;\">\n",
       "      <th></th>\n",
       "      <th>Very happy</th>\n",
       "      <th>Pretty happy</th>\n",
       "      <th>Not too happy</th>\n",
       "    </tr>\n",
       "  </thead>\n",
       "  <tbody>\n",
       "    <tr>\n",
       "      <th>Married</th>\n",
       "      <td>0.433300</td>\n",
       "      <td>0.505517</td>\n",
       "      <td>0.061184</td>\n",
       "    </tr>\n",
       "    <tr>\n",
       "      <th>Divorced/Separated</th>\n",
       "      <td>0.192872</td>\n",
       "      <td>0.591195</td>\n",
       "      <td>0.215933</td>\n",
       "    </tr>\n",
       "    <tr>\n",
       "      <th>Never married</th>\n",
       "      <td>0.185629</td>\n",
       "      <td>0.612275</td>\n",
       "      <td>0.202096</td>\n",
       "    </tr>\n",
       "  </tbody>\n",
       "</table>\n",
       "</div>"
      ],
      "text/plain": [
       "                    Very happy  Pretty happy  Not too happy\n",
       "Married               0.433300      0.505517       0.061184\n",
       "Divorced/Separated    0.192872      0.591195       0.215933\n",
       "Never married         0.185629      0.612275       0.202096"
      ]
     },
     "execution_count": 5,
     "metadata": {},
     "output_type": "execute_result"
    }
   ],
   "source": [
    "# conditional distributions on happiness (proportions within rows):\n",
    "proptable = pd.crosstab(Happy[\"marital\"], Happy[\"happiness\"], normalize=\"index\")\n",
    "proptable.index = rowlabel\n",
    "proptable.columns = collabel\n",
    "proptable"
   ]
  },
  {
   "cell_type": "code",
   "execution_count": 6,
   "id": "be3b189f",
   "metadata": {},
   "outputs": [
    {
     "name": "stdout",
     "output_type": "stream",
     "text": [
      "                    Very happy  Pretty happy  Not too happy\n",
      "Married             301.613445    556.216153     139.170401\n",
      "Divorced/Separated  144.302521    266.113445      66.584034\n",
      "Never married       202.084034    372.670401      93.245565\n"
     ]
    }
   ],
   "source": [
    "import statsmodels.api as sm  # expected frequencies under H0: independence\n",
    "\n",
    "table = sm.stats.Table(table)\n",
    "print(table.fittedvalues)"
   ]
  },
  {
   "cell_type": "code",
   "execution_count": 7,
   "id": "5ad16f44",
   "metadata": {},
   "outputs": [
    {
     "name": "stdout",
     "output_type": "stream",
     "text": [
      "df          4\n",
      "pvalue      0.0\n",
      "statistic   197.407019249992\n"
     ]
    }
   ],
   "source": [
    "X2 = table.test_nominal_association()  # chi-squared test of independence\n",
    "print(X2)"
   ]
  },
  {
   "cell_type": "code",
   "execution_count": 8,
   "id": "327be4be",
   "metadata": {},
   "outputs": [
    {
     "data": {
      "text/html": [
       "<div>\n",
       "<style scoped>\n",
       "    .dataframe tbody tr th:only-of-type {\n",
       "        vertical-align: middle;\n",
       "    }\n",
       "\n",
       "    .dataframe tbody tr th {\n",
       "        vertical-align: top;\n",
       "    }\n",
       "\n",
       "    .dataframe thead th {\n",
       "        text-align: right;\n",
       "    }\n",
       "</style>\n",
       "<table border=\"1\" class=\"dataframe\">\n",
       "  <thead>\n",
       "    <tr style=\"text-align: right;\">\n",
       "      <th></th>\n",
       "      <th>Very happy</th>\n",
       "      <th>Pretty happy</th>\n",
       "      <th>Not too happy</th>\n",
       "    </tr>\n",
       "  </thead>\n",
       "  <tbody>\n",
       "    <tr>\n",
       "      <th>Married</th>\n",
       "      <td>12.295576</td>\n",
       "      <td>-4.554333</td>\n",
       "      <td>-9.770639</td>\n",
       "    </tr>\n",
       "    <tr>\n",
       "      <th>Divorced/Separated</th>\n",
       "      <td>-5.913202</td>\n",
       "      <td>1.661245</td>\n",
       "      <td>5.457032</td>\n",
       "    </tr>\n",
       "    <tr>\n",
       "      <th>Never married</th>\n",
       "      <td>-7.928512</td>\n",
       "      <td>3.411881</td>\n",
       "      <td>5.619486</td>\n",
       "    </tr>\n",
       "  </tbody>\n",
       "</table>\n",
       "</div>"
      ],
      "text/plain": [
       "                    Very happy  Pretty happy  Not too happy\n",
       "Married              12.295576     -4.554333      -9.770639\n",
       "Divorced/Separated   -5.913202      1.661245       5.457032\n",
       "Never married        -7.928512      3.411881       5.619486"
      ]
     },
     "execution_count": 8,
     "metadata": {},
     "output_type": "execute_result"
    }
   ],
   "source": [
    "table.standardized_resids"
   ]
  },
  {
   "cell_type": "code",
   "execution_count": 10,
   "id": "48e67977",
   "metadata": {},
   "outputs": [
    {
     "data": {
      "image/png": "[encoded data removed]",
      "text/plain": [
       "<Figure size 432x288 with 3 Axes>"
      ]
     },
     "metadata": {
      "needs_background": "light"
     },
     "output_type": "display_data"
    }
   ],
   "source": [
    "Happy.loc[Happy[\"happiness\"] == 1, \"happiness\"] = \"Very\"\n",
    "Happy.loc[Happy[\"happiness\"] == 2, \"happiness\"] = \"Pretty\"\n",
    "Happy.loc[Happy[\"happiness\"] == 3, \"happiness\"] = \"Not too\"\n",
    "Happy.loc[Happy[\"marital\"] == 1, \"marital\"] = \"Married\"\n",
    "Happy.loc[Happy[\"marital\"] == 2, \"marital\"] = \"Div/Sep\"\n",
    "Happy.loc[Happy[\"marital\"] == 3, \"marital\"] = \"Never\"\n",
    "\n",
    "from statsmodels.graphics.mosaicplot import mosaic\n",
    "\n",
    "fig, _ = mosaic(Happy, [\"marital\", \"happiness\"], statistic=True)"
   ]
  }
 ],
 "metadata": {
  "kernelspec": {
   "display_name": "Python 3 (ipykernel)",
   "language": "python",
   "name": "python3"
  },
  "language_info": {
   "codemirror_mode": {
    "name": "ipython",
    "version": 3
   },
   "file_extension": ".py",
   "mimetype": "text/x-python",
   "name": "python",
   "nbconvert_exporter": "python",
   "pygments_lexer": "ipython3",
   "version": "3.9.12"
  }
 },
 "nbformat": 4,
 "nbformat_minor": 5
}
