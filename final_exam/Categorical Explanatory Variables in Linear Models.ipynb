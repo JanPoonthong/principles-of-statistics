{
 "cells": [
  {
   "cell_type": "code",
   "execution_count": 52,
   "id": "1bb7b271",
   "metadata": {},
   "outputs": [],
   "source": [
    "# ANOVA\n",
    "import pandas as pd\n",
    "import statsmodels.formula.api as smf\n",
    "\n",
    "Income = pd.read_csv(\"data/Income.dat\", sep=\"\\s+\")"
   ]
  },
  {
   "cell_type": "code",
   "execution_count": 53,
   "id": "70235742",
   "metadata": {},
   "outputs": [
    {
     "data": {
      "text/html": [
       "<div>\n",
       "<style scoped>\n",
       "    .dataframe tbody tr th:only-of-type {\n",
       "        vertical-align: middle;\n",
       "    }\n",
       "\n",
       "    .dataframe tbody tr th {\n",
       "        vertical-align: top;\n",
       "    }\n",
       "\n",
       "    .dataframe thead th {\n",
       "        text-align: right;\n",
       "    }\n",
       "</style>\n",
       "<table border=\"1\" class=\"dataframe\">\n",
       "  <thead>\n",
       "    <tr style=\"text-align: right;\">\n",
       "      <th></th>\n",
       "      <th>income</th>\n",
       "      <th>education</th>\n",
       "      <th>race</th>\n",
       "    </tr>\n",
       "  </thead>\n",
       "  <tbody>\n",
       "    <tr>\n",
       "      <th>0</th>\n",
       "      <td>16</td>\n",
       "      <td>10</td>\n",
       "      <td>B</td>\n",
       "    </tr>\n",
       "  </tbody>\n",
       "</table>\n",
       "</div>"
      ],
      "text/plain": [
       "   income  education race\n",
       "0      16         10    B"
      ]
     },
     "execution_count": 53,
     "metadata": {},
     "output_type": "execute_result"
    }
   ],
   "source": [
    "Income.head(1)"
   ]
  },
  {
   "cell_type": "code",
   "execution_count": 54,
   "id": "99c5d897",
   "metadata": {},
   "outputs": [
    {
     "name": "stdout",
     "output_type": "stream",
     "text": [
      "                            OLS Regression Results                            \n",
      "==============================================================================\n",
      "Dep. Variable:                 income   R-squared:                       0.099\n",
      "Model:                            OLS   Adj. R-squared:                  0.076\n",
      "Method:                 Least Squares   F-statistic:                     4.244\n",
      "Date:                Sat, 01 Oct 2022   Prob (F-statistic):             0.0178\n",
      "Time:                        07:30:15   Log-Likelihood:                -351.13\n",
      "No. Observations:                  80   AIC:                             708.3\n",
      "Df Residuals:                      77   BIC:                             715.4\n",
      "Df Model:                           2                                         \n",
      "Covariance Type:            nonrobust                                         \n",
      "================================================================================\n",
      "                   coef    std err          t      P>|t|      [0.025      0.975]\n",
      "--------------------------------------------------------------------------------\n",
      "Intercept       27.7500      4.968      5.586      0.000      17.857      37.643\n",
      "C(race)[T.H]     3.2500      7.273      0.447      0.656     -11.232      17.732\n",
      "C(race)[T.W]    14.7300      5.708      2.581      0.012       3.364      26.096\n",
      "==============================================================================\n",
      "Omnibus:                       32.758   Durbin-Watson:                   2.404\n",
      "Prob(Omnibus):                  0.000   Jarque-Bera (JB):               60.707\n",
      "Skew:                           1.569   Prob(JB):                     6.57e-14\n",
      "Kurtosis:                       5.893   Cond. No.                         5.14\n",
      "==============================================================================\n",
      "\n",
      "Notes:\n",
      "[1] Standard Errors assume that the covariance matrix of the errors is correctly specified.\n"
     ]
    }
   ],
   "source": [
    "fit = smf.ols(formula=\"income ~ C(race)\", data=Income).fit()\n",
    "print(fit.summary())"
   ]
  },
  {
   "cell_type": "code",
   "execution_count": null,
   "id": "efe43a0a",
   "metadata": {},
   "outputs": [],
   "source": []
  },
  {
   "cell_type": "code",
   "execution_count": 55,
   "id": "ce840bcd",
   "metadata": {},
   "outputs": [],
   "source": [
    "import statsmodels.api as sm"
   ]
  },
  {
   "cell_type": "code",
   "execution_count": 56,
   "id": "c2fc1ae4",
   "metadata": {},
   "outputs": [
    {
     "name": "stdout",
     "output_type": "stream",
     "text": [
      "                            OLS Regression Results                            \n",
      "==============================================================================\n",
      "Dep. Variable:                 income   R-squared:                       0.462\n",
      "Model:                            OLS   Adj. R-squared:                  0.441\n",
      "Method:                 Least Squares   F-statistic:                     21.75\n",
      "Date:                Sat, 01 Oct 2022   Prob (F-statistic):           2.85e-10\n",
      "Time:                        07:30:15   Log-Likelihood:                -330.52\n",
      "No. Observations:                  80   AIC:                             669.0\n",
      "Df Residuals:                      76   BIC:                             678.6\n",
      "Df Model:                           3                                         \n",
      "Covariance Type:            nonrobust                                         \n",
      "================================================================================\n",
      "                   coef    std err          t      P>|t|      [0.025      0.975]\n",
      "--------------------------------------------------------------------------------\n",
      "Intercept      -26.5379      8.512     -3.118      0.003     -43.492      -9.584\n",
      "C(race)[T.H]     5.9407      5.670      1.048      0.298      -5.352      17.234\n",
      "C(race)[T.W]    10.8744      4.473      2.431      0.017       1.966      19.783\n",
      "education        4.4317      0.619      7.158      0.000       3.199       5.665\n",
      "==============================================================================\n",
      "Omnibus:                       29.194   Durbin-Watson:                   1.900\n",
      "Prob(Omnibus):                  0.000   Jarque-Bera (JB):               57.596\n",
      "Skew:                           1.329   Prob(JB):                     3.11e-13\n",
      "Kurtosis:                       6.196   Cond. No.                         68.9\n",
      "==============================================================================\n",
      "\n",
      "Notes:\n",
      "[1] Standard Errors assume that the covariance matrix of the errors is correctly specified.\n"
     ]
    }
   ],
   "source": [
    "fit2 = smf.ols(formula=\"income ~ C(race) + education\", data=Income).fit()\n",
    "print(fit2.summary())"
   ]
  },
  {
   "cell_type": "code",
   "execution_count": 58,
   "id": "e8a336c9",
   "metadata": {},
   "outputs": [
    {
     "data": {
      "text/html": [
       "<div>\n",
       "<style scoped>\n",
       "    .dataframe tbody tr th:only-of-type {\n",
       "        vertical-align: middle;\n",
       "    }\n",
       "\n",
       "    .dataframe tbody tr th {\n",
       "        vertical-align: top;\n",
       "    }\n",
       "\n",
       "    .dataframe thead th {\n",
       "        text-align: right;\n",
       "    }\n",
       "</style>\n",
       "<table border=\"1\" class=\"dataframe\">\n",
       "  <thead>\n",
       "    <tr style=\"text-align: right;\">\n",
       "      <th></th>\n",
       "      <th>df</th>\n",
       "      <th>sum_sq</th>\n",
       "      <th>mean_sq</th>\n",
       "      <th>F</th>\n",
       "      <th>PR(&gt;F)</th>\n",
       "    </tr>\n",
       "  </thead>\n",
       "  <tbody>\n",
       "    <tr>\n",
       "      <th>C(race)</th>\n",
       "      <td>2.0</td>\n",
       "      <td>3352.470000</td>\n",
       "      <td>1676.235000</td>\n",
       "      <td>7.01344</td>\n",
       "      <td>1.602408e-03</td>\n",
       "    </tr>\n",
       "    <tr>\n",
       "      <th>education</th>\n",
       "      <td>1.0</td>\n",
       "      <td>12245.231928</td>\n",
       "      <td>12245.231928</td>\n",
       "      <td>51.23458</td>\n",
       "      <td>4.422192e-10</td>\n",
       "    </tr>\n",
       "    <tr>\n",
       "      <th>Residual</th>\n",
       "      <td>76.0</td>\n",
       "      <td>18164.248072</td>\n",
       "      <td>239.003264</td>\n",
       "      <td>NaN</td>\n",
       "      <td>NaN</td>\n",
       "    </tr>\n",
       "  </tbody>\n",
       "</table>\n",
       "</div>"
      ],
      "text/plain": [
       "             df        sum_sq       mean_sq         F        PR(>F)\n",
       "C(race)     2.0   3352.470000   1676.235000   7.01344  1.602408e-03\n",
       "education   1.0  12245.231928  12245.231928  51.23458  4.422192e-10\n",
       "Residual   76.0  18164.248072    239.003264       NaN           NaN"
      ]
     },
     "execution_count": 58,
     "metadata": {},
     "output_type": "execute_result"
    }
   ],
   "source": [
    "sm.stats.anova_lm(fit2)"
   ]
  },
  {
   "cell_type": "code",
   "execution_count": 59,
   "id": "2e47d545",
   "metadata": {},
   "outputs": [
    {
     "data": {
      "text/html": [
       "<div>\n",
       "<style scoped>\n",
       "    .dataframe tbody tr th:only-of-type {\n",
       "        vertical-align: middle;\n",
       "    }\n",
       "\n",
       "    .dataframe tbody tr th {\n",
       "        vertical-align: top;\n",
       "    }\n",
       "\n",
       "    .dataframe thead th {\n",
       "        text-align: right;\n",
       "    }\n",
       "</style>\n",
       "<table border=\"1\" class=\"dataframe\">\n",
       "  <thead>\n",
       "    <tr style=\"text-align: right;\">\n",
       "      <th></th>\n",
       "      <th>sum_sq</th>\n",
       "      <th>df</th>\n",
       "      <th>F</th>\n",
       "      <th>PR(&gt;F)</th>\n",
       "    </tr>\n",
       "  </thead>\n",
       "  <tbody>\n",
       "    <tr>\n",
       "      <th>C(race)</th>\n",
       "      <td>1460.583947</td>\n",
       "      <td>2.0</td>\n",
       "      <td>3.055573</td>\n",
       "      <td>5.292198e-02</td>\n",
       "    </tr>\n",
       "    <tr>\n",
       "      <th>education</th>\n",
       "      <td>12245.231928</td>\n",
       "      <td>1.0</td>\n",
       "      <td>51.234580</td>\n",
       "      <td>4.422192e-10</td>\n",
       "    </tr>\n",
       "    <tr>\n",
       "      <th>Residual</th>\n",
       "      <td>18164.248072</td>\n",
       "      <td>76.0</td>\n",
       "      <td>NaN</td>\n",
       "      <td>NaN</td>\n",
       "    </tr>\n",
       "  </tbody>\n",
       "</table>\n",
       "</div>"
      ],
      "text/plain": [
       "                 sum_sq    df          F        PR(>F)\n",
       "C(race)     1460.583947   2.0   3.055573  5.292198e-02\n",
       "education  12245.231928   1.0  51.234580  4.422192e-10\n",
       "Residual   18164.248072  76.0        NaN           NaN"
      ]
     },
     "execution_count": 59,
     "metadata": {},
     "output_type": "execute_result"
    }
   ],
   "source": [
    "sm.stats.anova_lm(fit2, typ=2)"
   ]
  },
  {
   "cell_type": "code",
   "execution_count": null,
   "id": "221bf3cc",
   "metadata": {},
   "outputs": [],
   "source": []
  }
 ],
 "metadata": {
  "kernelspec": {
   "display_name": "Python 3 (ipykernel)",
   "language": "python",
   "name": "python3"
  },
  "language_info": {
   "codemirror_mode": {
    "name": "ipython",
    "version": 3
   },
   "file_extension": ".py",
   "mimetype": "text/x-python",
   "name": "python",
   "nbconvert_exporter": "python",
   "pygments_lexer": "ipython3",
   "version": "3.9.12"
  }
 },
 "nbformat": 4,
 "nbformat_minor": 5
}
