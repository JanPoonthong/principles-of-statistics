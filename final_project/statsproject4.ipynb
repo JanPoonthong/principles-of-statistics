{
 "cells": [
  {
   "cell_type": "code",
   "execution_count": 6,
   "id": "fdb747f8",
   "metadata": {},
   "outputs": [
    {
     "name": "stdout",
     "output_type": "stream",
     "text": [
      "P value is 0.5994424487031542\n",
      "Fail to Reject Null Hypothesis\n"
     ]
    }
   ],
   "source": [
    "# 4 belgium\n",
    "import pandas as pd\n",
    "from scipy.stats import chi2_contingency\n",
    "\n",
    "data = pd.read_csv(r\"C:\\Users\\Administrator\\Desktop\\python\\Project.csv\")\n",
    "\n",
    "# Belgium Data\n",
    "belgium_data = data[data[\"Country\"] == \"Belgium\"]\n",
    "\n",
    "# question_4 yes\n",
    "q4_data = belgium_data[belgium_data[\"Question_4\"] == \"Yes\"]\n",
    "everyday_yes = q4_data[q4_data[\"Question_3\"] == \"Everyday\"]\n",
    "onceaweek_yes = q4_data[q4_data[\"Question_3\"] == \"Once a week\"]\n",
    "twiceamonth_yes = q4_data[q4_data[\"Question_3\"] == \"Twice a month\"]\n",
    "yes_data = [len(everyday_yes), len(onceaweek_yes), len(twiceamonth_yes)]\n",
    "\n",
    "# question_4 no\n",
    "q4_data = belgium_data[belgium_data[\"Question_4\"] == \"No\"]\n",
    "everyday_no = q4_data[q4_data[\"Question_3\"] == \"Everyday\"]\n",
    "onceaweek_no = q4_data[q4_data[\"Question_3\"] == \"Once a week\"]\n",
    "twiceamonth_no = q4_data[q4_data[\"Question_3\"] == \"Twice a month\"]\n",
    "no_data = [len(everyday_no), len(onceaweek_no), len(twiceamonth_no)]\n",
    "\n",
    "\n",
    "data = [yes_data, no_data]\n",
    "stat, p, dof, expected = chi2_contingency(data)\n",
    "alpha = 0.05\n",
    "print(\"P value is \" + str(p))\n",
    "if p <= alpha:\n",
    "    print(\"Reject Null Hypothesis\")\n",
    "else:\n",
    "    print(\"Fail to Reject Null Hypothesis\")"
   ]
  },
  {
   "cell_type": "code",
   "execution_count": 5,
   "id": "b42e1a7b",
   "metadata": {},
   "outputs": [
    {
     "name": "stdout",
     "output_type": "stream",
     "text": [
      "P value is 0.5199295763249517\n",
      "Fail to Reject Null Hypothesis\n"
     ]
    }
   ],
   "source": [
    "# 4 austria\n",
    "import pandas as pd\n",
    "from scipy.stats import chi2_contingency\n",
    "\n",
    "data = pd.read_csv(r\"C:\\Users\\Administrator\\Desktop\\python\\Project.csv\")\n",
    "\n",
    "# Austria Data\n",
    "austria_data = data[data[\"Country\"] == \"Austria\"]\n",
    "\n",
    "# question_4 yes\n",
    "q4_data = austria_data[austria_data[\"Question_4\"] == \"Yes\"]\n",
    "everyday_yes = q4_data[q4_data[\"Question_3\"] == \"Everyday\"]\n",
    "onceaweek_yes = q4_data[q4_data[\"Question_3\"] == \"Once a week\"]\n",
    "twiceamonth_yes = q4_data[q4_data[\"Question_3\"] == \"Twice a month\"]\n",
    "yes_data = [len(everyday_yes), len(onceaweek_yes), len(twiceamonth_yes)]\n",
    "\n",
    "# question_4 no\n",
    "q4_data = belgium_data[belgium_data[\"Question_4\"] == \"No\"]\n",
    "everyday_no = q4_data[q4_data[\"Question_3\"] == \"Everyday\"]\n",
    "onceaweek_no = q4_data[q4_data[\"Question_3\"] == \"Once a week\"]\n",
    "twiceamonth_no = q4_data[q4_data[\"Question_3\"] == \"Twice a month\"]\n",
    "no_data = [len(everyday_no), len(onceaweek_no), len(twiceamonth_no)]\n",
    "\n",
    "\n",
    "data = [yes_data, no_data]\n",
    "stat, p, dof, expected = chi2_contingency(data)\n",
    "alpha = 0.05\n",
    "print(\"P value is \" + str(p))\n",
    "if p <= alpha:\n",
    "    print(\"Reject Null Hypothesis\")\n",
    "else:\n",
    "    print(\"Fail to Reject Null Hypothesis\")"
   ]
  },
  {
   "cell_type": "code",
   "execution_count": null,
   "id": "8eef50f4",
   "metadata": {},
   "outputs": [],
   "source": []
  }
 ],
 "metadata": {
  "kernelspec": {
   "display_name": "Python 3",
   "language": "python",
   "name": "python3"
  },
  "language_info": {
   "codemirror_mode": {
    "name": "ipython",
    "version": 3
   },
   "file_extension": ".py",
   "mimetype": "text/x-python",
   "name": "python",
   "nbconvert_exporter": "python",
   "pygments_lexer": "ipython3",
   "version": "3.8.8"
  }
 },
 "nbformat": 4,
 "nbformat_minor": 5
}
