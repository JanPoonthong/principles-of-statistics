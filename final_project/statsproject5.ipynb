{
 "cells": [
  {
   "cell_type": "code",
   "execution_count": 5,
   "id": "000b17af",
   "metadata": {},
   "outputs": [
    {
     "name": "stdout",
     "output_type": "stream",
     "text": [
      "The ANOVA value is  2.300353895176996\n",
      "P value is 0.10452007802125494\n",
      "Fail to Reject Null Hypothesis\n"
     ]
    }
   ],
   "source": [
    "# 5 belgium\n",
    "import pandas as pd\n",
    "from scipy.stats import chi2_contingency\n",
    "\n",
    "data = pd.read_csv(r\"C:\\Users\\Administrator\\Desktop\\python\\Project.csv\")\n",
    "\n",
    "# Belgium Data\n",
    "belgium_data = data[data[\"Country\"] == \"Belgium\"]\n",
    "\n",
    "# with one way anova\n",
    "# important factor\n",
    "quality = belgium_data[belgium_data[\"Question_2\"] == \"Quality of products\"]\n",
    "price = belgium_data[belgium_data[\"Question_2\"] == \"Price\"]\n",
    "dietary_info = belgium_data[\n",
    "    belgium_data[\"Question_2\"] == \"The dietary information\"\n",
    "]\n",
    "\n",
    "\n",
    "# avg_spending\n",
    "avgspending_quality = list(quality[\"Avg_Spend\"])\n",
    "avgspending_price = list(price[\"Avg_Spend\"])\n",
    "avgspending_dietary_info = list(dietary_info[\"Avg_Spend\"])\n",
    "\n",
    "from scipy.stats import f_oneway\n",
    "\n",
    "group1 = avgspending_quality\n",
    "group2 = avgspending_price\n",
    "group3 = avgspending_dietary_info\n",
    "anova, pvalue = f_oneway(group1, group2, group3)\n",
    "print(\"The ANOVA value is \", anova)\n",
    "\n",
    "alpha = 0.05\n",
    "print(\"P value is \" + str(pvalue))\n",
    "if pvalue <= alpha:\n",
    "    print(\"Reject Null Hypothesis\")\n",
    "else:\n",
    "    print(\"Fail to Reject Null Hypothesis\")"
   ]
  },
  {
   "cell_type": "code",
   "execution_count": 8,
   "id": "26101193",
   "metadata": {},
   "outputs": [
    {
     "name": "stdout",
     "output_type": "stream",
     "text": [
      "The ANOVA value is  0.22262511575575547\n",
      "P value is 0.8007989885075333\n",
      "Fail to Reject Null Hypothesis\n"
     ]
    }
   ],
   "source": [
    "# 5 AUSTRIA\n",
    "import pandas as pd\n",
    "from scipy.stats import chi2_contingency\n",
    "\n",
    "data = pd.read_csv(r\"C:\\Users\\Administrator\\Desktop\\python\\Project.csv\")\n",
    "\n",
    "# Belgium Data\n",
    "austria_data = data[data[\"Country\"] == \"Austria\"]\n",
    "\n",
    "# with one way anova\n",
    "# important factor\n",
    "quality = austria_data[belgium_data[\"Question_2\"] == \"Quality of products\"]\n",
    "price = austria_data[austria_data[\"Question_2\"] == \"Price\"]\n",
    "dietary_info = austria_data[\n",
    "    austria_data[\"Question_2\"] == \"The dietary information\"\n",
    "]\n",
    "\n",
    "\n",
    "# avg_spending\n",
    "avgspending_quality = list(quality[\"Avg_Spend\"])\n",
    "avgspending_price = list(price[\"Avg_Spend\"])\n",
    "avgspending_dietary_info = list(dietary_info[\"Avg_Spend\"])\n",
    "\n",
    "from scipy.stats import f_oneway\n",
    "\n",
    "group1 = avgspending_quality\n",
    "group2 = avgspending_price\n",
    "group3 = avgspending_dietary_info\n",
    "anova, pvalue = f_oneway(group1, group2, group3)\n",
    "print(\"The ANOVA value is \", anova)\n",
    "\n",
    "alpha = 0.05\n",
    "print(\"P value is \" + str(pvalue))\n",
    "if pvalue <= alpha:\n",
    "    print(\"Reject Null Hypothesis\")\n",
    "else:\n",
    "    print(\"Fail to Reject Null Hypothesis\")"
   ]
  },
  {
   "cell_type": "code",
   "execution_count": null,
   "id": "7de6dc3b",
   "metadata": {},
   "outputs": [],
   "source": []
  }
 ],
 "metadata": {
  "kernelspec": {
   "display_name": "Python 3",
   "language": "python",
   "name": "python3"
  },
  "language_info": {
   "codemirror_mode": {
    "name": "ipython",
    "version": 3
   },
   "file_extension": ".py",
   "mimetype": "text/x-python",
   "name": "python",
   "nbconvert_exporter": "python",
   "pygments_lexer": "ipython3",
   "version": "3.8.8"
  }
 },
 "nbformat": 4,
 "nbformat_minor": 5
}
